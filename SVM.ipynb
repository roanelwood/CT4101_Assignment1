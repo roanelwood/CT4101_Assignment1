{
 "cells": [
  {
   "cell_type": "code",
   "execution_count": 195,
   "id": "24da7885",
   "metadata": {},
   "outputs": [
    {
     "name": "stdout",
     "output_type": "stream",
     "text": [
      "  fire  year  temp  humidity  rainfall  drought_code  buildup_index  day  \\\n",
      "0   no  2015    28        59       0.0          8.06           3.47    1   \n",
      "1   no  2010    30        61       1.3          8.17           4.03    2   \n",
      "2   no  2009    26        83      13.1          8.08           3.59    3   \n",
      "3   no  2017    25        87       2.5          7.18           2.42    4   \n",
      "4   no  2014    28        77       0.0         14.98           4.63    5   \n",
      "\n",
      "   month  wind_speed  \n",
      "0      6          19  \n",
      "1      6          13  \n",
      "2      6          22  \n",
      "3      6          15  \n",
      "4      6          18  \n"
     ]
    }
   ],
   "source": [
    "# Imports and load test and training data\n",
    "import pandas as pd\n",
    "import matplotlib.pyplot as plt\n",
    "\n",
    "from sklearn.svm import SVC\n",
    "from sklearn.preprocessing import StandardScaler\n",
    "from sklearn.metrics import accuracy_score, confusion_matrix, recall_score, precision_score\n",
    "\n",
    "# Load train and test data from CSV\n",
    "df_train = pd.read_csv(\"wildfires_training.csv\")\n",
    "df_test = pd.read_csv(\"wildfires_test.csv\")\n",
    "\n",
    "print(df_train.head())"
   ]
  },
  {
   "cell_type": "code",
   "execution_count": 196,
   "id": "a551f080",
   "metadata": {},
   "outputs": [],
   "source": [
    "# Change fire column to binary and split into X and Y\n",
    "y_train = df_train['fire'].map({'no':0,'yes':1}).to_numpy()\n",
    "X_train = df_train.drop('fire', axis=1).to_numpy()\n",
    "y_test = df_test['fire'].map({'no':0,'yes':1}).to_numpy()\n",
    "X_test = df_test.drop('fire', axis=1).to_numpy()\n",
    "# Preprocessing - feature scaling\n",
    "scaler = StandardScaler()\n",
    "X_train_scaled = scaler.fit_transform(X_train)\n",
    "X_test_scaled = scaler.transform(X_test)"
   ]
  },
  {
   "cell_type": "code",
   "execution_count": 197,
   "id": "88b84977",
   "metadata": {},
   "outputs": [],
   "source": [
    "# Defeault SVM with linear kernel\n",
    "svm_linear_default = SVC(kernel='linear')\n",
    "svm_linear_default.fit(X_train_scaled, y_train)\n",
    "\n",
    "y_train_pred_lin_def = svm_linear_default.predict(X_train_scaled)\n",
    "y_test_pred_lin_def = svm_linear_default.predict(X_test_scaled)\n",
    "\n",
    "\n"
   ]
  },
  {
   "cell_type": "code",
   "execution_count": 198,
   "id": "b1287143",
   "metadata": {},
   "outputs": [
    {
     "name": "stdout",
     "output_type": "stream",
     "text": [
      "Default Linear SVM:\n",
      "Train Accuracy: 0.9090909090909091\n",
      "Test Accuracy: 0.84\n",
      "Train Confusion Matrix:\n",
      " [[67  8]\n",
      " [ 6 73]]\n",
      "Test Confusion Matrix:\n",
      " [[18  4]\n",
      " [ 4 24]]\n"
     ]
    }
   ],
   "source": [
    "print(\"Default Linear SVM:\")\n",
    "print(\"Train Accuracy:\", accuracy_score(y_train, y_train_pred_lin_def))\n",
    "print(\"Test Accuracy:\", accuracy_score(y_test, y_test_pred_lin_def))\n",
    "print(\"Train Confusion Matrix:\\n\", confusion_matrix(y_train, y_train_pred_lin_def))\n",
    "print(\"Test Confusion Matrix:\\n\", confusion_matrix(y_test, y_test_pred_lin_def))\n"
   ]
  },
  {
   "cell_type": "code",
   "execution_count": null,
   "id": "65fbfc06",
   "metadata": {},
   "outputs": [
    {
     "name": "stdout",
     "output_type": "stream",
     "text": [
      "C=0.01, class_weight=None → Test Accuracy=0.740\n",
      "C=0.01, class_weight=balanced → Test Accuracy=0.740\n",
      "C=0.1, class_weight=None → Test Accuracy=0.820\n",
      "C=0.1, class_weight=balanced → Test Accuracy=0.820\n",
      "C=1, class_weight=None → Test Accuracy=0.840\n",
      "C=1, class_weight=balanced → Test Accuracy=0.820\n",
      "C=5, class_weight=None → Test Accuracy=0.880\n",
      "C=5, class_weight=balanced → Test Accuracy=0.880\n",
      "C=10, class_weight=None → Test Accuracy=0.900\n",
      "C=10, class_weight=balanced → Test Accuracy=0.880\n",
      "C=15, class_weight=None → Test Accuracy=0.880\n",
      "C=15, class_weight=balanced → Test Accuracy=0.880\n",
      "C=20, class_weight=None → Test Accuracy=0.880\n",
      "C=20, class_weight=balanced → Test Accuracy=0.880\n",
      "\n",
      "Best Linear SVM: C=10, class_weight=None, Test Accuracy=0.900\n"
     ]
    }
   ],
   "source": [
    "# Try different C values and class_weight values\n",
    "C_values = [0.01, 0.1, 1, 5, 10, 15, 20]\n",
    "class_weights = [None, 'balanced']\n",
    "\n",
    "best_lin_acc = 0\n",
    "best_lin_C = None\n",
    "best_lin_weight = None\n",
    "\n",
    "for c in C_values:\n",
    "    for w in class_weights:\n",
    "        model = SVC(kernel='linear', C=c, class_weight=w)\n",
    "        model.fit(X_train_scaled, y_train)\n",
    "        preds = model.predict(X_test_scaled)\n",
    "        acc = accuracy_score(y_test, preds)\n",
    "        print(f\"C={c}, class_weight={w} → Test Accuracy={acc:.3f}\")\n",
    "        if acc > best_lin_acc:\n",
    "            best_lin_acc = acc\n",
    "            best_lin_C = c\n",
    "            best_lin_weight = w\n",
    "\n",
    "print(f\"\\nBest Linear SVM: C={best_lin_C}, class_weight={best_lin_weight}, Test Accuracy={best_lin_acc:.3f}\")\n"
   ]
  },
  {
   "cell_type": "code",
   "execution_count": 200,
   "id": "90cf1d30",
   "metadata": {},
   "outputs": [],
   "source": [
    "# Default SVM with RBF kernel\n",
    "svm_rbf_default = SVC(kernel='rbf')  # default C=1 & gamma='scale'\n",
    "svm_rbf_default.fit(X_train_scaled, y_train)\n",
    "\n",
    "y_train_pred_rbf_def = svm_rbf_default.predict(X_train_scaled)\n",
    "y_test_pred_rbf_def = svm_rbf_default.predict(X_test_scaled)"
   ]
  },
  {
   "cell_type": "code",
   "execution_count": 201,
   "id": "c83c43f8",
   "metadata": {},
   "outputs": [
    {
     "name": "stdout",
     "output_type": "stream",
     "text": [
      "Default RBF SVM:\n",
      "Train Accuracy: 0.935064935064935\n",
      "Test Accuracy: 0.8\n",
      "Train Confusion Matrix:\n",
      " [[70  5]\n",
      " [ 5 74]]\n",
      "Test Confusion Matrix:\n",
      " [[18  4]\n",
      " [ 6 22]]\n"
     ]
    }
   ],
   "source": [
    "print(\"Default RBF SVM:\")\n",
    "print(\"Train Accuracy:\", accuracy_score(y_train, y_train_pred_rbf_def))\n",
    "print(\"Test Accuracy:\", accuracy_score(y_test, y_test_pred_rbf_def))\n",
    "print(\"Train Confusion Matrix:\\n\", confusion_matrix(y_train, y_train_pred_rbf_def))\n",
    "print(\"Test Confusion Matrix:\\n\", confusion_matrix(y_test, y_test_pred_rbf_def))\n"
   ]
  },
  {
   "cell_type": "code",
   "execution_count": 202,
   "id": "403073e0",
   "metadata": {},
   "outputs": [
    {
     "name": "stdout",
     "output_type": "stream",
     "text": [
      "C=0.5, gamma=0.01 → Test Accuracy=0.740\n",
      "C=0.5, gamma=0.05 → Test Accuracy=0.800\n",
      "C=0.5, gamma=0.1 → Test Accuracy=0.800\n",
      "C=0.5, gamma=0.2 → Test Accuracy=0.800\n",
      "C=1, gamma=0.01 → Test Accuracy=0.740\n",
      "C=1, gamma=0.05 → Test Accuracy=0.800\n",
      "C=1, gamma=0.1 → Test Accuracy=0.800\n",
      "C=1, gamma=0.2 → Test Accuracy=0.820\n",
      "C=5, gamma=0.01 → Test Accuracy=0.820\n",
      "C=5, gamma=0.05 → Test Accuracy=0.780\n",
      "C=5, gamma=0.1 → Test Accuracy=0.760\n",
      "C=5, gamma=0.2 → Test Accuracy=0.740\n",
      "C=10, gamma=0.01 → Test Accuracy=0.820\n",
      "C=10, gamma=0.05 → Test Accuracy=0.740\n",
      "C=10, gamma=0.1 → Test Accuracy=0.740\n",
      "C=10, gamma=0.2 → Test Accuracy=0.700\n",
      "\n",
      "Calculated most accurate values for RBF SVM: C Value=1, Gamma Value=0.2, Test Accuracy=0.820\n"
     ]
    }
   ],
   "source": [
    "# Loop over C and gamma values to find best test accuracy\n",
    "C_values = [0.5, 1, 5, 10]\n",
    "gamma_values = [0.01, 0.05, 0.1, 0.2]\n",
    "best_rbf_acc = 0\n",
    "best_C = None\n",
    "best_gamma = None\n",
    "\n",
    "for c in C_values:\n",
    "    for g in gamma_values:\n",
    "        model = SVC(kernel='rbf', C=c, gamma=g)\n",
    "        model.fit(X_train_scaled, y_train)\n",
    "        preds = model.predict(X_test_scaled)\n",
    "        acc = accuracy_score(y_test, preds)\n",
    "        print(f\"C={c}, gamma={g} → Test Accuracy={acc:.3f}\")\n",
    "        if acc > best_rbf_acc:\n",
    "            best_rbf_acc = acc\n",
    "            best_C = c\n",
    "            best_gamma = g\n",
    "\n",
    "print(f\"\\nCalculated most accurate values for RBF SVM: C Value={best_C}, Gamma Value={best_gamma}, Test Accuracy={best_rbf_acc:.3f}\")\n",
    "\n"
   ]
  },
  {
   "cell_type": "code",
   "execution_count": 203,
   "id": "1e0a8798",
   "metadata": {},
   "outputs": [
    {
     "name": "stdout",
     "output_type": "stream",
     "text": [
      "Hyperparameter tuned RBF kernel SVM trained with C=1, gamma=0.2\n"
     ]
    }
   ],
   "source": [
    "svm_rbf_tuned = SVC(kernel='rbf', C=best_C, gamma=best_gamma)\n",
    "svm_rbf_tuned.fit(X_train_scaled, y_train)\n",
    "\n",
    "y_train_pred_tuned = svm_rbf_tuned.predict(X_train_scaled)\n",
    "y_test_pred_tuned = svm_rbf_tuned.predict(X_test_scaled)\n",
    "\n",
    "print(f\"Hyperparameter tuned RBF kernel SVM trained with C={best_C}, gamma={best_gamma}\")\n"
   ]
  },
  {
   "cell_type": "code",
   "execution_count": 204,
   "id": "eed9fe14",
   "metadata": {},
   "outputs": [
    {
     "name": "stdout",
     "output_type": "stream",
     "text": [
      "Tuned RBF SVM:\n",
      "Train Accuracy: 0.9285714285714286\n",
      "Test Accuracy: 0.82\n",
      "Train Confusion Matrix:\n",
      " [[69  6]\n",
      " [ 5 74]]\n",
      "Test Confusion Matrix:\n",
      " [[18  4]\n",
      " [ 5 23]]\n",
      "Train Recall: 0.9367088607594937\n",
      "Test Recall: 0.8214285714285714\n",
      "Train Precision: 0.925\n",
      "Test Precision: 0.8518518518518519\n"
     ]
    }
   ],
   "source": [
    "print(\"Tuned RBF SVM:\")\n",
    "print(\"Train Accuracy:\", accuracy_score(y_train, y_train_pred_tuned))\n",
    "print(\"Test Accuracy:\", accuracy_score(y_test, y_test_pred_tuned))\n",
    "print(\"Train Confusion Matrix:\\n\", confusion_matrix(y_train, y_train_pred_tuned))\n",
    "print(\"Test Confusion Matrix:\\n\", confusion_matrix(y_test, y_test_pred_tuned))\n",
    "print(\"Train Recall:\", recall_score(y_train, y_train_pred_tuned))\n",
    "print(\"Test Recall:\", recall_score(y_test, y_test_pred_tuned))\n",
    "print(\"Train Precision:\", precision_score(y_train, y_train_pred_tuned))\n",
    "print(\"Test Precision:\", precision_score(y_test, y_test_pred_tuned))\n"
   ]
  },
  {
   "cell_type": "code",
   "execution_count": 205,
   "id": "c88a0d5d",
   "metadata": {},
   "outputs": [
    {
     "data": {
      "image/png": "[encoded data removed]",
      "text/plain": [
       "<Figure size 700x500 with 1 Axes>"
      ]
     },
     "metadata": {},
     "output_type": "display_data"
    }
   ],
   "source": [
    "# SVM with linear kernel default & tuned on training and test data\n",
    "train_acc_linear_default = accuracy_score(y_train, y_train_pred_lin_def)\n",
    "test_acc_linear_default = accuracy_score(y_test, y_test_pred_lin_def)\n",
    "\n",
    "svm_linear_tuned = SVC(kernel='linear', C=best_lin_C, class_weight=best_lin_weight)\n",
    "svm_linear_tuned.fit(X_train_scaled, y_train)\n",
    "y_train_pred_lin_tuned = svm_linear_tuned.predict(X_train_scaled)\n",
    "y_test_pred_lin_tuned = svm_linear_tuned.predict(X_test_scaled)\n",
    "\n",
    "train_acc_linear_tuned = accuracy_score(y_train, y_train_pred_lin_tuned)\n",
    "test_acc_linear_tuned = accuracy_score(y_test, y_test_pred_lin_tuned)\n",
    "\n",
    "# Create plot\n",
    "labels = ['Linear Default', 'Linear Tuned']\n",
    "train_accs = [train_acc_linear_default, train_acc_linear_tuned]\n",
    "test_accs = [test_acc_linear_default, test_acc_linear_tuned]\n",
    "\n",
    "plt.figure(figsize=(7,5))\n",
    "plt.bar([0, 1], train_accs, width=0.35, label='Train', color='skyblue')\n",
    "plt.bar([i+0.35 for i in range(2)], test_accs, width=0.35, label='Test', color='orange')\n",
    "plt.xticks([i+0.15 for i in range(2)], labels)\n",
    "plt.ylim(0, 1)\n",
    "plt.title(\"Linear SVM: Default vs Tuned\")\n",
    "plt.ylabel(\"Accuracy\")\n",
    "plt.legend()\n",
    "plt.show()\n"
   ]
  },
  {
   "cell_type": "code",
   "execution_count": 206,
   "id": "c5a90e62",
   "metadata": {},
   "outputs": [
    {
     "data": {
      "image/png": "[encoded data removed]",
      "text/plain": [
       "<Figure size 700x500 with 1 Axes>"
      ]
     },
     "metadata": {},
     "output_type": "display_data"
    }
   ],
   "source": [
    "# Get best RBF model using tuned hyperparams\n",
    "svm_rbf_tuned = SVC(kernel='rbf', C=best_C, gamma=best_gamma)\n",
    "svm_rbf_tuned.fit(X_train_scaled, y_train)\n",
    "y_train_pred_rbf_tuned = svm_rbf_tuned.predict(X_train_scaled)\n",
    "y_test_pred_rbf_tuned = svm_rbf_tuned.predict(X_test_scaled)\n",
    "\n",
    "train_acc_rbf_default = accuracy_score(y_train, y_train_pred_rbf_def)\n",
    "test_acc_rbf_default = accuracy_score(y_test, y_test_pred_rbf_def)\n",
    "train_acc_rbf_tuned = accuracy_score(y_train, y_train_pred_rbf_tuned)\n",
    "test_acc_rbf_tuned = accuracy_score(y_test, y_test_pred_rbf_tuned)\n",
    "\n",
    "# Create plot\n",
    "labels = ['RBF Default', 'RBF Tuned']\n",
    "train_accs = [train_acc_rbf_default, train_acc_rbf_tuned]\n",
    "test_accs = [test_acc_rbf_default, test_acc_rbf_tuned]\n",
    "\n",
    "plt.figure(figsize=(7,5))\n",
    "plt.bar([0, 1], train_accs, width=0.35, label='Train', color='lightgreen')\n",
    "plt.bar([i+0.35 for i in range(2)], test_accs, width=0.35, label='Test', color='salmon')\n",
    "plt.xticks([i+0.15 for i in range(2)], labels)\n",
    "plt.ylim(0, 1)\n",
    "plt.title(\"RBF SVM: Default vs Tuned\")\n",
    "plt.ylabel(\"Accuracy\")\n",
    "plt.legend()\n",
    "plt.show()\n"
   ]
  },
  {
   "cell_type": "code",
   "execution_count": 207,
   "id": "6be528ff",
   "metadata": {},
   "outputs": [
    {
     "data": {
      "image/png": "[encoded data removed]",
      "text/plain": [
       "<Figure size 640x480 with 1 Axes>"
      ]
     },
     "metadata": {},
     "output_type": "display_data"
    }
   ],
   "source": [
    " # Plot comparison of linear and RBF default vs tuned with test data\n",
    "\n",
    "methods = ['Linear Default', 'Linear Tuned', 'RBF Default', 'RBF Tuned']\n",
    "test_acc = [\n",
    "    accuracy_score(y_test, y_test_pred_lin_def),\n",
    "    best_lin_acc,\n",
    "    accuracy_score(y_test, y_test_pred_rbf_def),\n",
    "    best_rbf_acc\n",
    "]\n",
    "\n",
    "plt.bar(methods, test_acc, color=['gray', 'lightblue', 'orange', 'green'])\n",
    "plt.ylabel(\"Test Accuracy\")\n",
    "plt.title(\"SVM Kernel Comparison: Linear vs RBF (Default & Tuned)\")\n",
    "plt.ylim(0, 1)\n",
    "plt.xticks(rotation=20)\n",
    "plt.show()\n"
   ]
  }
 ],
 "metadata": {
  "kernelspec": {
   "display_name": "Python (wildfire-venv)",
   "language": "python",
   "name": "wildfire-venv"
  },
  "language_info": {
   "codemirror_mode": {
    "name": "ipython",
    "version": 3
   },
   "file_extension": ".py",
   "mimetype": "text/x-python",
   "name": "python",
   "nbconvert_exporter": "python",
   "pygments_lexer": "ipython3",
   "version": "3.13.7"
  }
 },
 "nbformat": 4,
 "nbformat_minor": 5
}
