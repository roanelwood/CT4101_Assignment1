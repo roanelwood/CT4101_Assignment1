{
 "cells": [
  {
   "cell_type": "code",
   "execution_count": 108,
   "id": "24da7885",
   "metadata": {},
   "outputs": [
    {
     "name": "stdout",
     "output_type": "stream",
     "text": [
      "  fire  year  temp  humidity  rainfall  drought_code  buildup_index  day  \\\n",
      "0   no  2015    28        59       0.0          8.06           3.47    1   \n",
      "1   no  2010    30        61       1.3          8.17           4.03    2   \n",
      "2   no  2009    26        83      13.1          8.08           3.59    3   \n",
      "3   no  2017    25        87       2.5          7.18           2.42    4   \n",
      "4   no  2014    28        77       0.0         14.98           4.63    5   \n",
      "\n",
      "   month  wind_speed  \n",
      "0      6          19  \n",
      "1      6          13  \n",
      "2      6          22  \n",
      "3      6          15  \n",
      "4      6          18  \n"
     ]
    }
   ],
   "source": [
    "# Imports and load test and training data\n",
    "import pandas as pd\n",
    "# import numpy as np\n",
    "import matplotlib.pyplot as plt\n",
    "\n",
    "from sklearn.svm import SVC\n",
    "from sklearn.preprocessing import StandardScaler\n",
    "from sklearn.metrics import accuracy_score, confusion_matrix, recall_score, precision_score\n",
    "\n",
    "df_train = pd.read_csv(\"wildfires_training.csv\")\n",
    "df_test = pd.read_csv(\"wildfires_test.csv\")\n",
    "\n",
    "print(df_train.head())"
   ]
  },
  {
   "cell_type": "code",
   "execution_count": 109,
   "id": "a551f080",
   "metadata": {},
   "outputs": [],
   "source": [
    "y_train = df_train['fire'].map({'no':0,'yes':1}).to_numpy()\n",
    "X_train = df_train.drop('fire', axis=1).to_numpy()\n",
    "y_test = df_test['fire'].map({'no':0,'yes':1}).to_numpy()\n",
    "X_test = df_test.drop('fire', axis=1).to_numpy()\n",
    "#Preprocessing\n",
    "scaler = StandardScaler()\n",
    "X_train_scaled = scaler.fit_transform(X_train)\n",
    "X_test_scaled = scaler.transform(X_test)"
   ]
  },
  {
   "cell_type": "code",
   "execution_count": 110,
   "id": "90cf1d30",
   "metadata": {},
   "outputs": [],
   "source": [
    "# rbf kernel svm for multiple features\n",
    "svm_rbf_default = SVC(kernel='rbf')\n",
    "svm_rbf_default.fit(X_train_scaled, y_train)\n",
    "y_train_pred_def = svm_rbf_default.predict(X_train_scaled)\n",
    "y_test_pred_def = svm_rbf_default.predict(X_test_scaled)"
   ]
  },
  {
   "cell_type": "code",
   "execution_count": 111,
   "id": "c83c43f8",
   "metadata": {},
   "outputs": [
    {
     "name": "stdout",
     "output_type": "stream",
     "text": [
      "Default RBF SVM:\n",
      "Training Accuracy: 0.935064935064935\n",
      "Test Accuracy: 0.8\n",
      "Training Confusion Matrix:\n",
      " [[70  5]\n",
      " [ 5 74]]\n",
      "Test Confusion Matrix:\n",
      " [[18  4]\n",
      " [ 6 22]]\n",
      "Training Recall: 0.9367088607594937\n",
      "Test Recall: 0.7857142857142857\n",
      "Training Precision: 0.9367088607594937\n",
      "Test Precision: 0.8461538461538461\n"
     ]
    }
   ],
   "source": [
    "print(\"Default RBF SVM:\")\n",
    "print(\"Training Accuracy:\", accuracy_score(y_train, y_train_pred_def))\n",
    "print(\"Test Accuracy:\", accuracy_score(y_test, y_test_pred_def))\n",
    "print(\"Training Confusion Matrix:\\n\", confusion_matrix(y_train, y_train_pred_def))\n",
    "print(\"Test Confusion Matrix:\\n\", confusion_matrix(y_test, y_test_pred_def))\n",
    "print(\"Training Recall:\", recall_score(y_train, y_train_pred_def))\n",
    "print(\"Test Recall:\", recall_score(y_test, y_test_pred_def))\n",
    "print(\"Training Precision:\", precision_score(y_train, y_train_pred_def))\n",
    "print(\"Test Precision:\", precision_score(y_test, y_test_pred_def))\n"
   ]
  },
  {
   "cell_type": "code",
   "execution_count": 112,
   "id": "403073e0",
   "metadata": {},
   "outputs": [
    {
     "name": "stdout",
     "output_type": "stream",
     "text": [
      "C Value=0.5, Gamma Value=0.01 -> Test Accuracy=0.740\n",
      "C Value=0.5, Gamma Value=0.05 -> Test Accuracy=0.800\n",
      "C Value=0.5, Gamma Value=0.1 -> Test Accuracy=0.800\n",
      "C Value=0.5, Gamma Value=0.2 -> Test Accuracy=0.800\n",
      "C Value=0.5, Gamma Value=0.3 -> Test Accuracy=0.800\n",
      "C Value=1, Gamma Value=0.01 -> Test Accuracy=0.740\n",
      "C Value=1, Gamma Value=0.05 -> Test Accuracy=0.800\n",
      "C Value=1, Gamma Value=0.1 -> Test Accuracy=0.800\n",
      "C Value=1, Gamma Value=0.2 -> Test Accuracy=0.820\n",
      "C Value=1, Gamma Value=0.3 -> Test Accuracy=0.800\n",
      "C Value=5, Gamma Value=0.01 -> Test Accuracy=0.820\n",
      "C Value=5, Gamma Value=0.05 -> Test Accuracy=0.780\n",
      "C Value=5, Gamma Value=0.1 -> Test Accuracy=0.760\n",
      "C Value=5, Gamma Value=0.2 -> Test Accuracy=0.740\n",
      "C Value=5, Gamma Value=0.3 -> Test Accuracy=0.760\n",
      "C Value=10, Gamma Value=0.01 -> Test Accuracy=0.820\n",
      "C Value=10, Gamma Value=0.05 -> Test Accuracy=0.740\n",
      "C Value=10, Gamma Value=0.1 -> Test Accuracy=0.740\n",
      "C Value=10, Gamma Value=0.2 -> Test Accuracy=0.700\n",
      "C Value=10, Gamma Value=0.3 -> Test Accuracy=0.720\n",
      "C Value=15, Gamma Value=0.01 -> Test Accuracy=0.820\n",
      "C Value=15, Gamma Value=0.05 -> Test Accuracy=0.720\n",
      "C Value=15, Gamma Value=0.1 -> Test Accuracy=0.740\n",
      "C Value=15, Gamma Value=0.2 -> Test Accuracy=0.720\n",
      "C Value=15, Gamma Value=0.3 -> Test Accuracy=0.660\n",
      "\n",
      "Calculated most accurate values: C Value=1, Gamma Value=0.2, Test Accuracy=0.820\n"
     ]
    }
   ],
   "source": [
    "# Loop over C and gamma values to find best test accuracy\n",
    "best_test_acc = 0\n",
    "best_C = None\n",
    "best_gamma = None\n",
    "\n",
    "C_values = [0.5, 1, 5, 10, 15]\n",
    "gamma_values = [0.01, 0.05, 0.1, 0.2, 0.3]\n",
    "\n",
    "for C_val in C_values:\n",
    "    for gamma_val in gamma_values:\n",
    "        svm = SVC(kernel='rbf', C=C_val, gamma=gamma_val)\n",
    "        svm.fit(X_train_scaled, y_train)\n",
    "        y_test_pred = svm.predict(X_test_scaled)\n",
    "        acc = accuracy_score(y_test, y_test_pred)\n",
    "        print(f\"C Value={C_val}, Gamma Value={gamma_val} -> Test Accuracy={acc:.3f}\")\n",
    "        if acc > best_test_acc:\n",
    "            best_test_acc = acc\n",
    "            best_C = C_val\n",
    "            best_gamma = gamma_val\n",
    "\n",
    "print(f\"\\nCalculated most accurate values: C Value={best_C}, Gamma Value={best_gamma}, Test Accuracy={best_test_acc:.3f}\")\n",
    "\n"
   ]
  },
  {
   "cell_type": "code",
   "execution_count": 113,
   "id": "1e0a8798",
   "metadata": {},
   "outputs": [
    {
     "name": "stdout",
     "output_type": "stream",
     "text": [
      "Tuned RBF SVM trained with C=1, gamma=0.2\n"
     ]
    }
   ],
   "source": [
    "svm_rbf_tuned = SVC(kernel='rbf', C=best_C, gamma=best_gamma)\n",
    "svm_rbf_tuned.fit(X_train_scaled, y_train)\n",
    "\n",
    "y_train_pred_tuned = svm_rbf_tuned.predict(X_train_scaled)\n",
    "y_test_pred_tuned = svm_rbf_tuned.predict(X_test_scaled)\n",
    "\n",
    "print(f\"Tuned RBF SVM trained with C={best_C}, gamma={best_gamma}\")\n"
   ]
  },
  {
   "cell_type": "code",
   "execution_count": 114,
   "id": "eed9fe14",
   "metadata": {},
   "outputs": [
    {
     "name": "stdout",
     "output_type": "stream",
     "text": [
      "Tuned RBF SVM:\n",
      "Train Accuracy: 0.9285714285714286\n",
      "Test Accuracy: 0.82\n",
      "Train Confusion Matrix:\n",
      " [[69  6]\n",
      " [ 5 74]]\n",
      "Test Confusion Matrix:\n",
      " [[18  4]\n",
      " [ 5 23]]\n",
      "Train Recall: 0.9367088607594937\n",
      "Test Recall: 0.8214285714285714\n",
      "Train Precision: 0.925\n",
      "Test Precision: 0.8518518518518519\n"
     ]
    }
   ],
   "source": [
    "print(\"Tuned RBF SVM:\")\n",
    "print(\"Train Accuracy:\", accuracy_score(y_train, y_train_pred_tuned))\n",
    "print(\"Test Accuracy:\", accuracy_score(y_test, y_test_pred_tuned))\n",
    "print(\"Train Confusion Matrix:\\n\", confusion_matrix(y_train, y_train_pred_tuned))\n",
    "print(\"Test Confusion Matrix:\\n\", confusion_matrix(y_test, y_test_pred_tuned))\n",
    "print(\"Train Recall:\", recall_score(y_train, y_train_pred_tuned))\n",
    "print(\"Test Recall:\", recall_score(y_test, y_test_pred_tuned))\n",
    "print(\"Train Precision:\", precision_score(y_train, y_train_pred_tuned))\n",
    "print(\"Test Precision:\", precision_score(y_test, y_test_pred_tuned))\n"
   ]
  },
  {
   "cell_type": "code",
   "execution_count": 115,
   "id": "3ed75fec",
   "metadata": {},
   "outputs": [
    {
     "data": {
      "image/png": "[encoded data removed]",
      "text/plain": [
       "<Figure size 640x480 with 1 Axes>"
      ]
     },
     "metadata": {},
     "output_type": "display_data"
    }
   ],
   "source": [
    "# Plot comparison of default vs tuned with training and test data\n",
    "\n",
    "methods = ['Default','Tuned']\n",
    "train_acc = [accuracy_score(y_train, y_train_pred_def), accuracy_score(y_train, y_train_pred_tuned)]\n",
    "test_acc = [accuracy_score(y_test, y_test_pred_def), accuracy_score(y_test, y_test_pred_tuned)]\n",
    "\n",
    "x = [0,1]\n",
    "plt.bar([i-0.15 for i in x], train_acc, 0.3, label='Train')\n",
    "plt.bar([i+0.15 for i in x], test_acc, 0.3, label='Test')\n",
    "plt.xticks(x, methods)\n",
    "plt.ylabel('Accuracy')\n",
    "plt.title('RBF SVM: Default vs Tuned')\n",
    "plt.ylim(0,1)\n",
    "plt.legend()\n",
    "plt.show()\n",
    "\n"
   ]
  }
 ],
 "metadata": {
  "kernelspec": {
   "display_name": "Python (wildfire-venv)",
   "language": "python",
   "name": "wildfire-venv"
  },
  "language_info": {
   "codemirror_mode": {
    "name": "ipython",
    "version": 3
   },
   "file_extension": ".py",
   "mimetype": "text/x-python",
   "name": "python",
   "nbconvert_exporter": "python",
   "pygments_lexer": "ipython3",
   "version": "3.13.7"
  }
 },
 "nbformat": 4,
 "nbformat_minor": 5
}
