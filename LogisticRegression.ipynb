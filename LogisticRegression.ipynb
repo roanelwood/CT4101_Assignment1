{
 "cells": [
  {
   "cell_type": "code",
   "execution_count": 194,
   "id": "af8c9954",
   "metadata": {},
   "outputs": [
    {
     "data": {
      "text/html": [
       "<div>\n",
       "<style scoped>\n",
       "    .dataframe tbody tr th:only-of-type {\n",
       "        vertical-align: middle;\n",
       "    }\n",
       "\n",
       "    .dataframe tbody tr th {\n",
       "        vertical-align: top;\n",
       "    }\n",
       "\n",
       "    .dataframe thead th {\n",
       "        text-align: right;\n",
       "    }\n",
       "</style>\n",
       "<table border=\"1\" class=\"dataframe\">\n",
       "  <thead>\n",
       "    <tr style=\"text-align: right;\">\n",
       "      <th></th>\n",
       "      <th>fire</th>\n",
       "      <th>year</th>\n",
       "      <th>temp</th>\n",
       "      <th>humidity</th>\n",
       "      <th>rainfall</th>\n",
       "      <th>drought_code</th>\n",
       "      <th>buildup_index</th>\n",
       "      <th>day</th>\n",
       "      <th>month</th>\n",
       "      <th>wind_speed</th>\n",
       "    </tr>\n",
       "  </thead>\n",
       "  <tbody>\n",
       "    <tr>\n",
       "      <th>0</th>\n",
       "      <td>no</td>\n",
       "      <td>2015</td>\n",
       "      <td>28</td>\n",
       "      <td>59</td>\n",
       "      <td>0.0</td>\n",
       "      <td>8.06</td>\n",
       "      <td>3.47</td>\n",
       "      <td>1</td>\n",
       "      <td>6</td>\n",
       "      <td>19</td>\n",
       "    </tr>\n",
       "    <tr>\n",
       "      <th>1</th>\n",
       "      <td>no</td>\n",
       "      <td>2010</td>\n",
       "      <td>30</td>\n",
       "      <td>61</td>\n",
       "      <td>1.3</td>\n",
       "      <td>8.17</td>\n",
       "      <td>4.03</td>\n",
       "      <td>2</td>\n",
       "      <td>6</td>\n",
       "      <td>13</td>\n",
       "    </tr>\n",
       "    <tr>\n",
       "      <th>2</th>\n",
       "      <td>no</td>\n",
       "      <td>2009</td>\n",
       "      <td>26</td>\n",
       "      <td>83</td>\n",
       "      <td>13.1</td>\n",
       "      <td>8.08</td>\n",
       "      <td>3.59</td>\n",
       "      <td>3</td>\n",
       "      <td>6</td>\n",
       "      <td>22</td>\n",
       "    </tr>\n",
       "    <tr>\n",
       "      <th>3</th>\n",
       "      <td>no</td>\n",
       "      <td>2017</td>\n",
       "      <td>25</td>\n",
       "      <td>87</td>\n",
       "      <td>2.5</td>\n",
       "      <td>7.18</td>\n",
       "      <td>2.42</td>\n",
       "      <td>4</td>\n",
       "      <td>6</td>\n",
       "      <td>15</td>\n",
       "    </tr>\n",
       "    <tr>\n",
       "      <th>4</th>\n",
       "      <td>no</td>\n",
       "      <td>2014</td>\n",
       "      <td>28</td>\n",
       "      <td>77</td>\n",
       "      <td>0.0</td>\n",
       "      <td>14.98</td>\n",
       "      <td>4.63</td>\n",
       "      <td>5</td>\n",
       "      <td>6</td>\n",
       "      <td>18</td>\n",
       "    </tr>\n",
       "  </tbody>\n",
       "</table>\n",
       "</div>"
      ],
      "text/plain": [
       "  fire  year  temp  humidity  rainfall  drought_code  buildup_index  day  \\\n",
       "0   no  2015    28        59       0.0          8.06           3.47    1   \n",
       "1   no  2010    30        61       1.3          8.17           4.03    2   \n",
       "2   no  2009    26        83      13.1          8.08           3.59    3   \n",
       "3   no  2017    25        87       2.5          7.18           2.42    4   \n",
       "4   no  2014    28        77       0.0         14.98           4.63    5   \n",
       "\n",
       "   month  wind_speed  \n",
       "0      6          19  \n",
       "1      6          13  \n",
       "2      6          22  \n",
       "3      6          15  \n",
       "4      6          18  "
      ]
     },
     "execution_count": 194,
     "metadata": {},
     "output_type": "execute_result"
    }
   ],
   "source": [
    "#Import libraries and load test and training data\n",
    "import pandas as pd\n",
    "import matplotlib.pyplot as plt\n",
    "import numpy as np\n",
    "from sklearn.linear_model import LogisticRegression\n",
    "from sklearn.preprocessing import StandardScaler\n",
    "from sklearn.metrics import accuracy_score, confusion_matrix, precision_score, recall_score, f1_score\n",
    "\n",
    "df = pd.read_csv(\"wildfires_training.csv\")\n",
    "test_df = pd.read_csv(\"wildfires_test.csv\")\n",
    "\n",
    "df.head()\n",
    "# fire is target column (either yes or no)\n"
   ]
  },
  {
   "cell_type": "code",
   "execution_count": 195,
   "id": "1832c0cd",
   "metadata": {},
   "outputs": [],
   "source": [
    "# Convert training and test datato numpy\n",
    "train_data = df.to_numpy()\n",
    "test_data = test_df.to_numpy()\n",
    "\n",
    "# Features (everything except fire) and labels (fire column)\n",
    "X_train = train_data[:, 1:]\n",
    "y_train = train_data[:, 0]\n",
    "X_test = test_data[:, 1:]\n",
    "y_test = test_data[:, 0]\n",
    "\n",
    "# feature scaling preprocessing - so large attributes don't overwhelm smaller ones\n",
    "scaler = StandardScaler()\n",
    "X_train_scaled = scaler.fit_transform(X_train)\n",
    "X_test_scaled = scaler.transform(X_test)\n",
    "\n"
   ]
  },
  {
   "cell_type": "code",
   "execution_count": 196,
   "id": "846624ea",
   "metadata": {},
   "outputs": [
    {
     "name": "stdout",
     "output_type": "stream",
     "text": [
      "Default Logistic Regression: \n",
      "Train Accuracy: 0.896\n",
      "Test Accuracy: 0.86\n",
      "Precision: 0.92\n",
      "Recall: 0.821\n"
     ]
    }
   ],
   "source": [
    "# Default model where C = 1 & penalty = L2)\n",
    "log_reg_default = LogisticRegression(max_iter=1000)\n",
    "log_reg_default.fit(X_train_scaled, y_train)\n",
    "\n",
    "# Predictions\n",
    "y_train_pred_def = log_reg_default.predict(X_train_scaled)\n",
    "y_test_pred_def = log_reg_default.predict(X_test_scaled)\n",
    "\n",
    "# Accuracy results\n",
    "train_acc_def = accuracy_score(y_train, y_train_pred_def)\n",
    "test_acc_def = accuracy_score(y_test, y_test_pred_def)\n",
    "\n",
    "print(\"Default Logistic Regression: \")\n",
    "print(\"Train Accuracy:\", round(train_acc_def, 3))\n",
    "print(\"Test Accuracy:\", round(test_acc_def, 3))\n",
    "print(\"Precision:\", round(precision_score(y_test, y_test_pred_def, pos_label='yes'), 3))\n",
    "print(\"Recall:\", round(recall_score(y_test, y_test_pred_def, pos_label='yes'), 3))\n"
   ]
  },
  {
   "cell_type": "code",
   "execution_count": 197,
   "id": "59d767f7",
   "metadata": {},
   "outputs": [
    {
     "data": {
      "image/png": "[encoded data removed]",
      "text/plain": [
       "<Figure size 600x400 with 1 Axes>"
      ]
     },
     "metadata": {},
     "output_type": "display_data"
    }
   ],
   "source": [
    "# Defauly Logistic regression plot\n",
    "metrics = ['Trian Acc', 'Test Acc', 'Precision', 'Recall']\n",
    "values = [\n",
    "    train_acc_def,\n",
    "    test_acc_def,\n",
    "    precision_score(y_test, y_test_pred_def, pos_label='yes'),\n",
    "    recall_score(y_test, y_test_pred_def, pos_label='yes')\n",
    "]\n",
    "\n",
    "plt.figure(figsize=(6,4))\n",
    "\n",
    "# Line \n",
    "plt.plot(metrics, values, color='red')\n",
    "\n",
    "# Values at each point\n",
    "for i, v in enumerate(values):\n",
    "    plt.text(i, v + 0.02, f\"{v:.2f}\", ha='center')\n",
    "\n",
    "plt.ylim(0, 1.1)\n",
    "plt.ylabel(\"Score Value\")\n",
    "plt.title(\"Default Logistic Regression Metrics (C=1, L2)\")\n",
    "plt.tight_layout()\n",
    "plt.show()"
   ]
  },
  {
   "cell_type": "code",
   "execution_count": 198,
   "id": "1f21b2aa",
   "metadata": {},
   "outputs": [
    {
     "name": "stdout",
     "output_type": "stream",
     "text": [
      "C=0.01, penalty=l1 → Test Accuracy=0.44\n",
      "C=0.01, penalty=l2 → Test Accuracy=0.74\n",
      "C=0.1, penalty=l1 → Test Accuracy=0.76\n",
      "C=0.1, penalty=l2 → Test Accuracy=0.78\n",
      "C=1, penalty=l1 → Test Accuracy=0.86\n",
      "C=1, penalty=l2 → Test Accuracy=0.86\n",
      "C=10, penalty=l1 → Test Accuracy=0.88\n",
      "C=10, penalty=l2 → Test Accuracy=0.86\n",
      "C=20, penalty=l1 → Test Accuracy=0.88\n",
      "C=20, penalty=l2 → Test Accuracy=0.88\n",
      "C=50, penalty=l1 → Test Accuracy=0.88\n",
      "C=50, penalty=l2 → Test Accuracy=0.88\n",
      "\n",
      "Most Accurate hyperparamater values:\n",
      "C Value = 10, Penalty Value = l1, Test Accuracy = 0.88\n"
     ]
    }
   ],
   "source": [
    "# Adding hyperparam tuning with different C and penalty values\n",
    "C_values = [0.01, 0.1, 1, 10, 20, 50]\n",
    "penalties = ['l1', 'l2']\n",
    "\n",
    "best_acc = 0\n",
    "best_C = None\n",
    "best_penalty = None\n",
    "\n",
    "# loop through combinations of C and penalty values to find best model\n",
    "for c in C_values:\n",
    "    for p in penalties:\n",
    "            model = LogisticRegression(C=c, penalty=p, solver='liblinear', max_iter=1000)\n",
    "            model.fit(X_train_scaled, y_train)\n",
    "            preds = model.predict(X_test_scaled)\n",
    "            acc = accuracy_score(y_test, preds)\n",
    "            print(f\"C={c}, penalty={p} → Test Accuracy={round(acc,3)}\")\n",
    "            if acc > best_acc:\n",
    "                best_acc = acc\n",
    "                best_C = c\n",
    "                best_penalty = p\n",
    "\n",
    "# Final most accurate hyperparam values\n",
    "print(\"\\nMost Accurate hyperparamater values:\")\n",
    "print(f\"C Value = {best_C}, Penalty Value = {best_penalty}, Test Accuracy = {round(best_acc,3)}\")\n"
   ]
  },
  {
   "cell_type": "code",
   "execution_count": 199,
   "id": "5bec0565",
   "metadata": {},
   "outputs": [
    {
     "name": "stdout",
     "output_type": "stream",
     "text": [
      "Tuned Logistic Regression:\n",
      "Train Accuracy: 0.935\n",
      "Test Accuracy: 0.88\n",
      "Precision: 0.893\n",
      "Recall: 0.893\n"
     ]
    }
   ],
   "source": [
    "# Train best model using best hyperparameters found\n",
    "log_reg_tuned = LogisticRegression(C=best_C, penalty=best_penalty, solver='liblinear', max_iter=1000)\n",
    "log_reg_tuned.fit(X_train_scaled, y_train)\n",
    "\n",
    "y_train_pred_tuned = log_reg_tuned.predict(X_train_scaled)\n",
    "y_test_pred_tuned = log_reg_tuned.predict(X_test_scaled)\n",
    "# Checking tuned model same as we checked default model\n",
    "train_acc_tuned = accuracy_score(y_train, y_train_pred_tuned)\n",
    "test_acc_tuned = accuracy_score(y_test, y_test_pred_tuned)\n",
    "\n",
    "print(\"Tuned Logistic Regression:\")\n",
    "print(\"Train Accuracy:\", round(train_acc_tuned, 3))\n",
    "print(\"Test Accuracy:\", round(test_acc_tuned, 3))\n",
    "print(\"Precision:\", round(precision_score(y_test, y_test_pred_tuned, pos_label='yes'), 3))\n",
    "print(\"Recall:\", round(recall_score(y_test, y_test_pred_tuned, pos_label='yes'), 3))"
   ]
  },
  {
   "cell_type": "code",
   "execution_count": 200,
   "id": "ec085145",
   "metadata": {},
   "outputs": [
    {
     "data": {
      "image/png": "[encoded data removed]",
      "text/plain": [
       "<Figure size 700x500 with 1 Axes>"
      ]
     },
     "metadata": {},
     "output_type": "display_data"
    }
   ],
   "source": [
    "# Plot bar chart comparing default and tuned model accuracies with test and training data\n",
    "labels = ['Default', 'Tuned']\n",
    "train_accs = [train_acc_def, train_acc_tuned]\n",
    "test_accs = [test_acc_def, test_acc_tuned]\n",
    "\n",
    "plt.figure(figsize=(7,5))\n",
    "plt.bar([0,1], train_accs, width=0.35, label='Train', color='red')\n",
    "plt.bar([i+0.35 for i in range(2)], test_accs, width=0.35, label='Test', color='blue')\n",
    "plt.xticks([i+0.15 for i in range(2)], labels)\n",
    "plt.ylim(0,1)\n",
    "plt.ylabel(\"Accuracy\")\n",
    "plt.title(\"Logistic Regression: Default vs Tuned\")\n",
    "plt.legend()\n",
    "plt.show()"
   ]
  }
 ],
 "metadata": {
  "kernelspec": {
   "display_name": "Python (wildfire-venv)",
   "language": "python",
   "name": "wildfire-venv"
  },
  "language_info": {
   "codemirror_mode": {
    "name": "ipython",
    "version": 3
   },
   "file_extension": ".py",
   "mimetype": "text/x-python",
   "name": "python",
   "nbconvert_exporter": "python",
   "pygments_lexer": "ipython3",
   "version": "3.13.7"
  }
 },
 "nbformat": 4,
 "nbformat_minor": 5
}
